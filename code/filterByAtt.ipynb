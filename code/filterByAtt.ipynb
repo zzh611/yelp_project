{
 "cells": [
  {
   "cell_type": "code",
   "execution_count": 1,
   "metadata": {},
   "outputs": [],
   "source": [
    "import numpy as np\n",
    "import pandas as pd\n",
    "import ast"
   ]
  },
  {
   "cell_type": "code",
   "execution_count": 2,
   "metadata": {},
   "outputs": [],
   "source": [
    "bbq = pd.read_csv(\"BBQ.csv\", index_col = 0)\n",
    "bbq_light = bbq.loc[~(pd.isna(bbq[\"attributes\"]) | pd.isna(bbq[\"hours\"]) | pd.isna(bbq[\"categories\"])), \n",
    "                    [\"business_id\", \"state\", \"stars\", \"review_count\", \"attributes\", \"categories\", \"hours\"]]"
   ]
  },
  {
   "cell_type": "markdown",
   "metadata": {},
   "source": [
    "### Attributes"
   ]
  },
  {
   "cell_type": "code",
   "execution_count": 3,
   "metadata": {},
   "outputs": [],
   "source": [
    "bbq_light[\"attributes\"] = bbq_light[\"attributes\"].apply(ast.literal_eval)\n",
    "attr_df= pd.json_normalize(bbq_light[\"attributes\"])\n",
    "attr_df.index = bbq_light.index\n",
    "bbq_light = bbq_light.join(attr_df)\n",
    "bbq_light = bbq_light.loc[~(pd.isna(bbq_light[\"Ambience\"]) | pd.isna(bbq_light[\"BusinessParking\"]) | pd.isna(bbq_light[\"GoodForMeal\"])), \n",
    "                          :]"
   ]
  },
  {
   "cell_type": "code",
   "execution_count": 4,
   "metadata": {},
   "outputs": [],
   "source": [
    "c = [\"BusinessParking\", \"Ambience\", \"GoodForMeal\"]\n",
    "bbq_light[\"GoodForMeal\"] = bbq_light[\"GoodForMeal\"].apply(ast.literal_eval)\n",
    "bbq_light[\"BusinessParking\"] = bbq_light[\"BusinessParking\"].apply(ast.literal_eval)\n",
    "bbq_light[\"Ambience\"] = bbq_light[\"Ambience\"].apply(ast.literal_eval)\n",
    "\n"
   ]
  },
  {
   "cell_type": "code",
   "execution_count": 12,
   "metadata": {},
   "outputs": [],
   "source": [
    "L = []\n",
    "for (i, p) in enumerate(bbq_light[\"Ambience\"]):\n",
    "    if p == None:\n",
    "        L.append(bbq_light[\"Ambience\"].index[i])\n",
    "for (i, p) in enumerate(bbq_light[\"BusinessParking\"]):\n",
    "    if p == None:\n",
    "        L.append(bbq_light[\"BusinessParking\"].index[i])\n",
    "for (i, p) in enumerate(bbq_light[\"GoodForMeal\"]):\n",
    "    if p == None:\n",
    "        L.append(bbq_light[\"GoodForMeal\"].index[i])\n"
   ]
  },
  {
   "cell_type": "code",
   "execution_count": 16,
   "metadata": {},
   "outputs": [],
   "source": [
    "for i in L:\n",
    "    bbq_light = bbq_light[bbq_light.index!=i]"
   ]
  },
  {
   "cell_type": "code",
   "execution_count": 17,
   "metadata": {},
   "outputs": [],
   "source": [
    "bbq_light[\"GoodForMeal\"] = bbq_light[\"GoodForMeal\"]\n",
    "Meal = pd.json_normalize(bbq_light[\"GoodForMeal\"])\n",
    "Parking = pd.json_normalize(bbq_light[\"BusinessParking\"])\n",
    "Amb = pd.json_normalize(bbq_light[\"Ambience\"])"
   ]
  },
  {
   "cell_type": "code",
   "execution_count": 18,
   "metadata": {},
   "outputs": [],
   "source": [
    "Meal.index = bbq_light.index\n",
    "Amb.index = bbq_light.index\n",
    "Parking.index = bbq_light.index\n"
   ]
  },
  {
   "cell_type": "code",
   "execution_count": 19,
   "metadata": {},
   "outputs": [],
   "source": [
    "bbq_light = bbq_light.join(Meal)\n",
    "bbq_light = bbq_light.join(Amb)\n",
    "bbq_light = bbq_light.join(Parking)"
   ]
  },
  {
   "cell_type": "markdown",
   "metadata": {},
   "source": [
    "### Categories"
   ]
  },
  {
   "cell_type": "code",
   "execution_count": 5,
   "metadata": {},
   "outputs": [],
   "source": [
    "# bbqWithAttr[\"American\"] = bbq_light[\"categories\"].str.contains(\"American\", na = False)]\n",
    "# bbqWithAttr[\"Mexican\"] = bbq_light[\"categories\"].str.contains(\"Mexican\", na = False)]\n",
    "# bbqWithAttr[\"Bars\"] = bbq_light[\"categories\"].str.contains(\"Bars\", na = False)]\n",
    "# bbqWithAttr[\"Korean\"] = bbq_light[\"categories\"].str.contains(\"Korean\", na = False)]\n",
    "# bbqWithAttr[\"Korean\"] = bbq_light[\"categories\"].str.contains(\"Korean\", na = False)]"
   ]
  },
  {
   "cell_type": "code",
   "execution_count": 6,
   "metadata": {},
   "outputs": [
    {
     "data": {
      "text/plain": [
       "{'Acai Bowls',\n",
       " 'Active Life',\n",
       " 'Afghan',\n",
       " 'African',\n",
       " 'American (New)',\n",
       " 'American (Traditional)',\n",
       " 'Appliances',\n",
       " 'Appliances & Repair',\n",
       " 'Arcades',\n",
       " 'Argentine',\n",
       " 'Armenian',\n",
       " 'Arts & Crafts',\n",
       " 'Arts & Entertainment',\n",
       " 'Asian Fusion',\n",
       " 'Automotive',\n",
       " 'Bagels',\n",
       " 'Bakeries',\n",
       " 'Bar Crawl',\n",
       " 'Barbeque',\n",
       " 'Bars',\n",
       " 'Basque',\n",
       " 'Beauty & Spas',\n",
       " 'Beer',\n",
       " 'Beer Bar',\n",
       " 'Beer Gardens',\n",
       " 'Bike Rentals',\n",
       " 'Bowling',\n",
       " 'Brazilian',\n",
       " 'Breakfast & Brunch',\n",
       " 'Breweries',\n",
       " 'Brewpubs',\n",
       " 'British',\n",
       " 'Bubble Tea',\n",
       " 'Buffets',\n",
       " 'Burgers',\n",
       " 'Butcher',\n",
       " 'Cafes',\n",
       " 'Cafeteria',\n",
       " 'Cajun/Creole',\n",
       " 'Canadian (New)',\n",
       " 'Cantonese',\n",
       " 'Caribbean',\n",
       " 'Casinos',\n",
       " 'Caterers',\n",
       " 'Cheese Shops',\n",
       " 'Cheesesteaks',\n",
       " 'Chicken Shop',\n",
       " 'Chicken Wings',\n",
       " 'Chinese',\n",
       " 'Cigar Bars',\n",
       " 'Cocktail Bars',\n",
       " 'Coffee & Tea',\n",
       " 'Comfort Food',\n",
       " 'Convenience Stores',\n",
       " 'Cuban',\n",
       " 'Damage Restoration',\n",
       " 'Dance Clubs',\n",
       " 'Day Spas',\n",
       " 'Delis',\n",
       " 'Desserts',\n",
       " 'Dim Sum',\n",
       " 'Diners',\n",
       " 'Distilleries',\n",
       " 'Dive Bars',\n",
       " 'Do-It-Yourself Food',\n",
       " 'Donuts',\n",
       " 'Drugstores',\n",
       " 'Eatertainment',\n",
       " 'Embroidery & Crochet',\n",
       " 'Ethnic Food',\n",
       " 'Event Planning & Services',\n",
       " 'Farmers Market',\n",
       " 'Fashion',\n",
       " 'Fast Food',\n",
       " 'Filipino',\n",
       " 'Fireplace Services',\n",
       " 'Flowers & Gifts',\n",
       " 'Food',\n",
       " 'Food Court',\n",
       " 'Food Delivery Services',\n",
       " 'Food Stands',\n",
       " 'Food Trucks',\n",
       " 'French',\n",
       " 'Gas Stations',\n",
       " 'Gastropubs',\n",
       " 'German',\n",
       " 'Gift Shops',\n",
       " 'Gluten-Free',\n",
       " 'Graphic Design',\n",
       " 'Grocery',\n",
       " 'Guamanian',\n",
       " 'Halal',\n",
       " 'Hawaiian',\n",
       " 'Health & Medical',\n",
       " 'Health Markets',\n",
       " 'Heating & Air Conditioning/HVAC',\n",
       " 'Home & Garden',\n",
       " 'Home Services',\n",
       " 'Hookah Bars',\n",
       " 'Hot Dogs',\n",
       " 'Hot Pot',\n",
       " 'Hotels',\n",
       " 'Hotels & Travel',\n",
       " 'Ice Cream & Frozen Yogurt',\n",
       " 'Imported Food',\n",
       " 'Indian',\n",
       " 'Indonesian',\n",
       " 'International Grocery',\n",
       " 'Italian',\n",
       " 'Izakaya',\n",
       " 'Japanese',\n",
       " 'Jazz & Blues',\n",
       " 'Jewelry',\n",
       " 'Juice Bars & Smoothies',\n",
       " 'Karaoke',\n",
       " 'Kebab',\n",
       " 'Korean',\n",
       " 'Kosher',\n",
       " 'Latin American',\n",
       " 'Live/Raw Food',\n",
       " 'Local Flavor',\n",
       " 'Local Services',\n",
       " 'Lounges',\n",
       " 'Meat Shops',\n",
       " 'Mediterranean',\n",
       " 'Mexican',\n",
       " 'Middle Eastern',\n",
       " 'Modern European',\n",
       " 'Mongolian',\n",
       " 'Music Venues',\n",
       " 'Nightlife',\n",
       " 'Noodles',\n",
       " 'Pakistani',\n",
       " 'Party & Event Planning',\n",
       " 'Persian/Iranian',\n",
       " 'Personal Chefs',\n",
       " 'Pharmacy',\n",
       " 'Pizza',\n",
       " 'Pool Halls',\n",
       " 'Pop-Up Restaurants',\n",
       " 'Portuguese',\n",
       " 'Professional Services',\n",
       " 'Pubs',\n",
       " 'Puerto Rican',\n",
       " 'Ramen',\n",
       " 'Recreation Centers',\n",
       " 'Resorts',\n",
       " 'Restaurants',\n",
       " 'Salad',\n",
       " 'Sandwiches',\n",
       " 'Screen Printing/T-Shirt Printing',\n",
       " 'Seafood',\n",
       " 'Seafood Markets',\n",
       " 'Shopping',\n",
       " 'Skating Rinks',\n",
       " 'Smokehouse',\n",
       " 'Soul Food',\n",
       " 'Soup',\n",
       " 'South African',\n",
       " 'Southern',\n",
       " 'Spanish',\n",
       " 'Specialty Food',\n",
       " 'Sporting Goods',\n",
       " 'Sports Bars',\n",
       " 'Steakhouses',\n",
       " 'Street Vendors',\n",
       " 'Sushi Bars',\n",
       " 'Syrian',\n",
       " 'Szechuan',\n",
       " 'Tacos',\n",
       " 'Taiwanese',\n",
       " 'Tapas Bars',\n",
       " 'Tapas/Small Plates',\n",
       " 'Teppanyaki',\n",
       " 'Tex-Mex',\n",
       " 'Thai',\n",
       " 'Tiki Bars',\n",
       " 'Tobacco Shops',\n",
       " 'Turkish',\n",
       " 'Uniforms',\n",
       " 'Vacation Rentals',\n",
       " 'Vegan',\n",
       " 'Vegetarian',\n",
       " 'Venues & Event Spaces',\n",
       " 'Vietnamese',\n",
       " 'Waffles',\n",
       " 'Wedding Planning',\n",
       " 'Whiskey Bars',\n",
       " 'Wine & Spirits',\n",
       " 'Wine Bars',\n",
       " 'Wineries',\n",
       " \"Women's Clothing\",\n",
       " 'Wraps',\n",
       " 'Yakiniku'}"
      ]
     },
     "execution_count": 6,
     "metadata": {},
     "output_type": "execute_result"
    }
   ],
   "source": [
    "set((bbq_light[\"categories\"].str.cat(sep=\", \")).split(\", \"))"
   ]
  },
  {
   "cell_type": "markdown",
   "metadata": {},
   "source": [
    "### Hours"
   ]
  },
  {
   "cell_type": "code",
   "execution_count": 20,
   "metadata": {},
   "outputs": [],
   "source": [
    "bbq_light[\"hours\"] = bbq_light[\"hours\"].apply(ast.literal_eval)"
   ]
  },
  {
   "cell_type": "code",
   "execution_count": 21,
   "metadata": {},
   "outputs": [],
   "source": [
    "hours_df= pd.json_normalize(bbq_light[\"hours\"])\n",
    "hours_df.index = bbq_light.index"
   ]
  },
  {
   "cell_type": "code",
   "execution_count": 22,
   "metadata": {},
   "outputs": [],
   "source": [
    "bbq_light = bbq_light.join(hours_df)\n",
    "bbq_light.to_csv(\"expand.csv\")"
   ]
  },
  {
   "cell_type": "code",
   "execution_count": null,
   "metadata": {},
   "outputs": [],
   "source": []
  }
 ],
 "metadata": {
  "kernelspec": {
   "display_name": "Python 3",
   "language": "python",
   "name": "python3"
  },
  "language_info": {
   "codemirror_mode": {
    "name": "ipython",
    "version": 3
   },
   "file_extension": ".py",
   "mimetype": "text/x-python",
   "name": "python",
   "nbconvert_exporter": "python",
   "pygments_lexer": "ipython3",
   "version": "3.8.3"
  }
 },
 "nbformat": 4,
 "nbformat_minor": 4
}
