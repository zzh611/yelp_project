{
 "cells": [
  {
   "cell_type": "code",
   "execution_count": 1,
   "metadata": {},
   "outputs": [],
   "source": [
    "import numpy as np\n",
    "import pandas as pd\n",
    "import ast"
   ]
  },
  {
   "cell_type": "code",
   "execution_count": 2,
   "metadata": {},
   "outputs": [
    {
     "name": "stdout",
     "output_type": "stream",
     "text": [
      "1483\n"
     ]
    },
    {
     "data": {
      "text/html": [
       "<div>\n",
       "<style scoped>\n",
       "    .dataframe tbody tr th:only-of-type {\n",
       "        vertical-align: middle;\n",
       "    }\n",
       "\n",
       "    .dataframe tbody tr th {\n",
       "        vertical-align: top;\n",
       "    }\n",
       "\n",
       "    .dataframe thead th {\n",
       "        text-align: right;\n",
       "    }\n",
       "</style>\n",
       "<table border=\"1\" class=\"dataframe\">\n",
       "  <thead>\n",
       "    <tr style=\"text-align: right;\">\n",
       "      <th></th>\n",
       "      <th>business_id</th>\n",
       "      <th>name</th>\n",
       "      <th>address</th>\n",
       "      <th>city</th>\n",
       "      <th>state</th>\n",
       "      <th>postal_code</th>\n",
       "      <th>latitude</th>\n",
       "      <th>longitude</th>\n",
       "      <th>stars</th>\n",
       "      <th>review_count</th>\n",
       "      <th>is_open</th>\n",
       "      <th>attributes</th>\n",
       "      <th>categories</th>\n",
       "      <th>hours</th>\n",
       "    </tr>\n",
       "  </thead>\n",
       "  <tbody>\n",
       "    <tr>\n",
       "      <th>42</th>\n",
       "      <td>TRToVIbaVtu1KOE8DR9gCw</td>\n",
       "      <td>Texas Roadhouse</td>\n",
       "      <td>2457 S Highway 27</td>\n",
       "      <td>Clermont</td>\n",
       "      <td>FL</td>\n",
       "      <td>34711</td>\n",
       "      <td>28.538452</td>\n",
       "      <td>-81.737625</td>\n",
       "      <td>3.5</td>\n",
       "      <td>102</td>\n",
       "      <td>1</td>\n",
       "      <td>{'RestaurantsTakeOut': 'True', 'BusinessAccept...</td>\n",
       "      <td>Steakhouses, Restaurants, Salad, Barbeque, Ame...</td>\n",
       "      <td>{'Monday': '0:0-0:0', 'Tuesday': '11:0-22:0', ...</td>\n",
       "    </tr>\n",
       "    <tr>\n",
       "      <th>328</th>\n",
       "      <td>0fTzCoxF2X-sj1GwrdFpeg</td>\n",
       "      <td>Uptown Restaurant &amp; Lounge</td>\n",
       "      <td>201 Courtland St NE</td>\n",
       "      <td>Atlanta</td>\n",
       "      <td>GA</td>\n",
       "      <td>30303</td>\n",
       "      <td>33.759931</td>\n",
       "      <td>-84.383949</td>\n",
       "      <td>3.5</td>\n",
       "      <td>12</td>\n",
       "      <td>0</td>\n",
       "      <td>{'RestaurantsReservations': 'True', 'BusinessA...</td>\n",
       "      <td>American (New), Bars, Barbeque, Lounges, Night...</td>\n",
       "      <td>NaN</td>\n",
       "    </tr>\n",
       "    <tr>\n",
       "      <th>523</th>\n",
       "      <td>pGpDZ4nV9FuojeVFy037rg</td>\n",
       "      <td>Jr Crickets</td>\n",
       "      <td>1197 Peachtree St NE</td>\n",
       "      <td>Atlanta</td>\n",
       "      <td>GA</td>\n",
       "      <td>30361</td>\n",
       "      <td>33.786873</td>\n",
       "      <td>-84.382572</td>\n",
       "      <td>2.0</td>\n",
       "      <td>25</td>\n",
       "      <td>0</td>\n",
       "      <td>{'HasTV': 'True', 'RestaurantsReservations': '...</td>\n",
       "      <td>Bars, American (Traditional), Nightlife, Barbe...</td>\n",
       "      <td>{'Monday': '11:0-0:0', 'Tuesday': '11:0-0:0', ...</td>\n",
       "    </tr>\n",
       "    <tr>\n",
       "      <th>586</th>\n",
       "      <td>SvTMnKWgV4AMH6Y2g_vRPQ</td>\n",
       "      <td>Smoke Daddie BBQ</td>\n",
       "      <td>602 7th St</td>\n",
       "      <td>Oregon City</td>\n",
       "      <td>OR</td>\n",
       "      <td>97045</td>\n",
       "      <td>45.356080</td>\n",
       "      <td>-122.605077</td>\n",
       "      <td>2.5</td>\n",
       "      <td>24</td>\n",
       "      <td>0</td>\n",
       "      <td>{'BikeParking': 'False', 'Alcohol': \"u'full_ba...</td>\n",
       "      <td>Barbeque, Restaurants</td>\n",
       "      <td>{'Monday': '11:0-19:0', 'Tuesday': '11:0-19:0'...</td>\n",
       "    </tr>\n",
       "    <tr>\n",
       "      <th>732</th>\n",
       "      <td>B4Y_wHDK7I84ZNs7Xuu8Uw</td>\n",
       "      <td>Woody's Bar-B-Q</td>\n",
       "      <td>1340 Alafaya Trl</td>\n",
       "      <td>Oviedo</td>\n",
       "      <td>FL</td>\n",
       "      <td>32765</td>\n",
       "      <td>28.651225</td>\n",
       "      <td>-81.208638</td>\n",
       "      <td>3.0</td>\n",
       "      <td>14</td>\n",
       "      <td>0</td>\n",
       "      <td>{'RestaurantsPriceRange2': '2', 'Alcohol': \"u'...</td>\n",
       "      <td>Restaurants, Fast Food, Food, Barbeque</td>\n",
       "      <td>{'Monday': '11:0-21:0', 'Tuesday': '11:0-21:0'...</td>\n",
       "    </tr>\n",
       "  </tbody>\n",
       "</table>\n",
       "</div>"
      ],
      "text/plain": [
       "                business_id                        name               address  \\\n",
       "42   TRToVIbaVtu1KOE8DR9gCw             Texas Roadhouse     2457 S Highway 27   \n",
       "328  0fTzCoxF2X-sj1GwrdFpeg  Uptown Restaurant & Lounge   201 Courtland St NE   \n",
       "523  pGpDZ4nV9FuojeVFy037rg                 Jr Crickets  1197 Peachtree St NE   \n",
       "586  SvTMnKWgV4AMH6Y2g_vRPQ            Smoke Daddie BBQ            602 7th St   \n",
       "732  B4Y_wHDK7I84ZNs7Xuu8Uw             Woody's Bar-B-Q      1340 Alafaya Trl   \n",
       "\n",
       "            city state postal_code   latitude   longitude  stars  \\\n",
       "42      Clermont    FL       34711  28.538452  -81.737625    3.5   \n",
       "328      Atlanta    GA       30303  33.759931  -84.383949    3.5   \n",
       "523      Atlanta    GA       30361  33.786873  -84.382572    2.0   \n",
       "586  Oregon City    OR       97045  45.356080 -122.605077    2.5   \n",
       "732       Oviedo    FL       32765  28.651225  -81.208638    3.0   \n",
       "\n",
       "     review_count  is_open                                         attributes  \\\n",
       "42            102        1  {'RestaurantsTakeOut': 'True', 'BusinessAccept...   \n",
       "328            12        0  {'RestaurantsReservations': 'True', 'BusinessA...   \n",
       "523            25        0  {'HasTV': 'True', 'RestaurantsReservations': '...   \n",
       "586            24        0  {'BikeParking': 'False', 'Alcohol': \"u'full_ba...   \n",
       "732            14        0  {'RestaurantsPriceRange2': '2', 'Alcohol': \"u'...   \n",
       "\n",
       "                                            categories  \\\n",
       "42   Steakhouses, Restaurants, Salad, Barbeque, Ame...   \n",
       "328  American (New), Bars, Barbeque, Lounges, Night...   \n",
       "523  Bars, American (Traditional), Nightlife, Barbe...   \n",
       "586                              Barbeque, Restaurants   \n",
       "732             Restaurants, Fast Food, Food, Barbeque   \n",
       "\n",
       "                                                 hours  \n",
       "42   {'Monday': '0:0-0:0', 'Tuesday': '11:0-22:0', ...  \n",
       "328                                                NaN  \n",
       "523  {'Monday': '11:0-0:0', 'Tuesday': '11:0-0:0', ...  \n",
       "586  {'Monday': '11:0-19:0', 'Tuesday': '11:0-19:0'...  \n",
       "732  {'Monday': '11:0-21:0', 'Tuesday': '11:0-21:0'...  "
      ]
     },
     "execution_count": 2,
     "metadata": {},
     "output_type": "execute_result"
    }
   ],
   "source": [
    "bbq = pd.read_csv(\"BBQ.csv\", index_col = 0)\n",
    "print(len(bbq))\n",
    "bbq.head()"
   ]
  },
  {
   "cell_type": "code",
   "execution_count": 3,
   "metadata": {},
   "outputs": [
    {
     "name": "stdout",
     "output_type": "stream",
     "text": [
      "1466\n"
     ]
    }
   ],
   "source": [
    "bbq_light = bbq.loc[~(pd.isna(bbq[\"attributes\"])), \n",
    "                    [\"business_id\", \"name\", \"address\", \"state\", \"city\", \"stars\", \"postal_code\",\"latitude\",\"longitude\", \"review_count\", \"attributes\", \"categories\", \"hours\"]]\n",
    "print(len(bbq_light))"
   ]
  },
  {
   "cell_type": "code",
   "execution_count": 4,
   "metadata": {},
   "outputs": [
    {
     "data": {
      "text/plain": [
       "247896"
      ]
     },
     "execution_count": 4,
     "metadata": {},
     "output_type": "execute_result"
    }
   ],
   "source": [
    "review = pd.read_csv(\"review.csv\")\n",
    "len(review)"
   ]
  },
  {
   "cell_type": "markdown",
   "metadata": {},
   "source": [
    "### Attributes"
   ]
  },
  {
   "cell_type": "code",
   "execution_count": 5,
   "metadata": {},
   "outputs": [],
   "source": [
    "bbq_light[\"attributes\"] = bbq_light[\"attributes\"].apply(ast.literal_eval)\n",
    "attr_df= pd.json_normalize(bbq_light[\"attributes\"])\n",
    "attr_df.index = bbq_light.index\n",
    "bbq_light = bbq_light.join(attr_df)\n",
    "#bbq_light = bbq_light.loc[~(pd.isna(bbq_light[\"Ambience\"]) | pd.isna(bbq_light[\"BusinessParking\"]) | pd.isna(bbq_light[\"GoodForMeal\"])), \n",
    "#                          :]"
   ]
  },
  {
   "cell_type": "code",
   "execution_count": 6,
   "metadata": {},
   "outputs": [],
   "source": [
    "for idx in bbq_light.index:\n",
    "    if type(bbq_light.loc[idx, \"BusinessParking\"]) is str:\n",
    "        bbq_light.loc[idx, \"BusinessParking\"] = [ast.literal_eval(bbq_light.loc[idx, \"BusinessParking\"])]\n",
    "parking = pd.json_normalize(bbq_light[\"BusinessParking\"])\n",
    "parking.index = bbq_light.index\n",
    "bbq_light = bbq_light.join(parking)"
   ]
  },
  {
   "cell_type": "code",
   "execution_count": 7,
   "metadata": {},
   "outputs": [
    {
     "name": "stdout",
     "output_type": "stream",
     "text": [
      "RestaurantsTakeOut\n",
      "BusinessAcceptsCreditCards\n",
      "RestaurantsAttire\n",
      "RestaurantsPriceRange2\n",
      "RestaurantsReservations\n",
      "NoiseLevel\n",
      "HasTV\n",
      "BikeParking\n",
      "RestaurantsDelivery\n",
      "GoodForKids\n",
      "OutdoorSeating\n",
      "RestaurantsTableService\n",
      "RestaurantsGoodForGroups\n",
      "WiFi\n",
      "Ambience\n",
      "DogsAllowed\n",
      "BusinessAcceptsBitcoin\n",
      "Alcohol\n",
      "WheelchairAccessible\n",
      "Caters\n",
      "GoodForMeal\n",
      "BusinessParking\n",
      "BYOBCorkage\n",
      "HappyHour\n",
      "BYOB\n",
      "DriveThru\n",
      "ByAppointmentOnly\n",
      "Corkage\n",
      "Smoking\n",
      "GoodForDancing\n",
      "Music\n",
      "BestNights\n",
      "CoatCheck\n",
      "RestaurantsCounterService\n",
      "DietaryRestrictions\n",
      "Open24Hours\n"
     ]
    }
   ],
   "source": [
    "attr_df.head()\n",
    "for col in attr_df.columns:\n",
    "    print(col)"
   ]
  },
  {
   "cell_type": "code",
   "execution_count": 8,
   "metadata": {},
   "outputs": [],
   "source": [
    "bbq_light.to_csv(\"expand.csv\")"
   ]
  },
  {
   "cell_type": "code",
   "execution_count": 9,
   "metadata": {},
   "outputs": [
    {
     "data": {
      "text/plain": [
       "1466"
      ]
     },
     "execution_count": 9,
     "metadata": {},
     "output_type": "execute_result"
    }
   ],
   "source": [
    "len(bbq_light)"
   ]
  }
 ],
 "metadata": {
  "kernelspec": {
   "display_name": "Python 3",
   "language": "python",
   "name": "python3"
  },
  "language_info": {
   "codemirror_mode": {
    "name": "ipython",
    "version": 3
   },
   "file_extension": ".py",
   "mimetype": "text/x-python",
   "name": "python",
   "nbconvert_exporter": "python",
   "pygments_lexer": "ipython3",
   "version": "3.8.3"
  }
 },
 "nbformat": 4,
 "nbformat_minor": 4
}
